{
 "cells": [
  {
   "cell_type": "code",
   "execution_count": null,
   "id": "1d1f5fee",
   "metadata": {},
   "outputs": [],
   "source": [
    "!pip install pandas; numpy; psycopg2"
   ]
  },
  {
   "cell_type": "code",
   "execution_count": null,
   "id": "091f0e90",
   "metadata": {},
   "outputs": [],
   "source": [
    "import pandas as pd\n",
    "import numpy as np\n",
    "import psycopg2"
   ]
  },
  {
   "cell_type": "code",
   "execution_count": null,
   "id": "27e4827c",
   "metadata": {},
   "outputs": [],
   "source": [
    "zulo_bank_df = pd.read_csv(r'C:\\Users\\Admin\\Desktop\\10Alytics\\Zulo Bank Data Model\\Zulo_Bank_Project\\zulo_bank.csv')"
   ]
  },
  {
   "cell_type": "code",
   "execution_count": null,
   "id": "86cf1ec8",
   "metadata": {},
   "outputs": [],
   "source": [
    "zulo_bank_df.head()"
   ]
  },
  {
   "cell_type": "code",
   "execution_count": null,
   "id": "4dc1a868",
   "metadata": {},
   "outputs": [],
   "source": [
    "zulo_bank_df [['First_Name', 'Last_Name']] = zulo_bank_df['FullName'].str.split(' ', expand=True)"
   ]
  },
  {
   "cell_type": "code",
   "execution_count": null,
   "id": "b384f7d1",
   "metadata": {},
   "outputs": [],
   "source": [
    "zulo_bank_df.info()"
   ]
  },
  {
   "cell_type": "code",
   "execution_count": null,
   "id": "765219db",
   "metadata": {},
   "outputs": [],
   "source": [
    "zulo_bank_df ['OpeningDate'] = pd.to_datetime(zulo_bank_df['OpeningDate'])\n",
    "zulo_bank_df ['StartDate'] = pd.to_datetime(zulo_bank_df['StartDate'])\n",
    "zulo_bank_df ['EndDate'] = pd.to_datetime(zulo_bank_df['EndDate'])\n",
    "zulo_bank_df ['TransactionDate'] = pd.to_datetime(zulo_bank_df['TransactionDate'])"
   ]
  },
  {
   "cell_type": "code",
   "execution_count": null,
   "id": "8757d13c",
   "metadata": {},
   "outputs": [],
   "source": [
    "zulo_bank_df.info()"
   ]
  },
  {
   "cell_type": "code",
   "execution_count": null,
   "id": "73d26f11",
   "metadata": {},
   "outputs": [],
   "source": [
    "zulo_bank_df.isnull().sum()"
   ]
  },
  {
   "cell_type": "code",
   "execution_count": null,
   "id": "066bda4d",
   "metadata": {},
   "outputs": [],
   "source": [
    "zulo_bank_df['LoanAmount'] = zulo_bank_df['LoanAmount'].fillna(0)\n",
    "zulo_bank_df['LoanType'] = zulo_bank_df['LoanType'].fillna('Not Provided')"
   ]
  }
 ],
 "metadata": {
  "kernelspec": {
   "display_name": ".venv",
   "language": "python",
   "name": "python3"
  },
  "language_info": {
   "codemirror_mode": {
    "name": "ipython",
    "version": 3
   },
   "file_extension": ".py",
   "mimetype": "text/x-python",
   "name": "python",
   "nbconvert_exporter": "python",
   "pygments_lexer": "ipython3",
   "version": "3.13.3"
  }
 },
 "nbformat": 4,
 "nbformat_minor": 5
}
