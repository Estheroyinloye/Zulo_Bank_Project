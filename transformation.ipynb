{
 "cells": [
  {
   "cell_type": "code",
   "execution_count": null,
   "id": "1d1f5fee",
   "metadata": {},
   "outputs": [],
   "source": [
    "!pip install pandas; numpy; psycopg2"
   ]
  },
  {
   "cell_type": "code",
   "execution_count": null,
   "id": "091f0e90",
   "metadata": {},
   "outputs": [],
   "source": [
    "# importing needed libraries\n",
    "import pandas as pd\n",
    "import numpy as np\n",
    "import psycopg2\n",
    "from datetime import datetime, timedelta\n",
    "import csv"
   ]
  },
  {
   "cell_type": "code",
   "execution_count": null,
   "id": "27e4827c",
   "metadata": {},
   "outputs": [],
   "source": [
    "# reading the dataset from the source(CSV)\n",
    "zulo_bank_df = pd.read_csv(r'C:\\Users\\Admin\\Desktop\\10Alytics\\Zulo Bank Data Model\\Zulo_Bank_Project\\zulo_bank.csv')"
   ]
  },
  {
   "cell_type": "code",
   "execution_count": null,
   "id": "86cf1ec8",
   "metadata": {},
   "outputs": [],
   "source": [
    "zulo_bank_df.head()"
   ]
  },
  {
   "cell_type": "code",
   "execution_count": null,
   "id": "b384f7d1",
   "metadata": {},
   "outputs": [],
   "source": [
    "zulo_bank_df.info()"
   ]
  },
  {
   "cell_type": "code",
   "execution_count": null,
   "id": "765219db",
   "metadata": {},
   "outputs": [],
   "source": [
    "zulo_bank_df ['OpeningDate'] = pd.to_datetime(zulo_bank_df['OpeningDate'])\n",
    "zulo_bank_df ['StartDate'] = pd.to_datetime(zulo_bank_df['StartDate'])\n",
    "zulo_bank_df ['EndDate'] = pd.to_datetime(zulo_bank_df['EndDate'])\n",
    "zulo_bank_df ['TransactionDate'] = pd.to_datetime(zulo_bank_df['TransactionDate'])"
   ]
  },
  {
   "cell_type": "code",
   "execution_count": null,
   "id": "73d26f11",
   "metadata": {},
   "outputs": [],
   "source": [
    "zulo_bank_df.isnull().sum()"
   ]
  },
  {
   "cell_type": "code",
   "execution_count": null,
   "id": "066bda4d",
   "metadata": {},
   "outputs": [],
   "source": [
    "# Filling the null values \n",
    "zulo_bank_df['LoanAmount'] = zulo_bank_df['LoanAmount'].fillna(0)\n",
    "zulo_bank_df['LoanType'] = zulo_bank_df['LoanType'].fillna('Not Provided')\n",
    "zulo_bank_df['InterestRate'] = zulo_bank_df['InterestRate'].fillna(0)"
   ]
  },
  {
   "cell_type": "code",
   "execution_count": null,
   "id": "5054f265",
   "metadata": {},
   "outputs": [],
   "source": [
    "# Normalization\n",
    "zulo_bank_df [['First_Name', 'Last_Name']] = zulo_bank_df['FullName'].str.split(expand=True)"
   ]
  },
  {
   "cell_type": "code",
   "execution_count": null,
   "id": "1775853f",
   "metadata": {},
   "outputs": [],
   "source": [
    "\n",
    "transaction_df = zulo_bank_df[['TransactionType', 'Amount','TransactionDate']].copy().drop_duplicates().reset_index(drop =True)\n",
    "transaction_df['TransactionID'] = range(1, len(transaction_df) + 1)\n",
    "transaction_df = transaction_df[['TransactionID', 'TransactionType', 'Amount','TransactionDate']]"
   ]
  },
  {
   "cell_type": "code",
   "execution_count": null,
   "id": "e6a7b9cb",
   "metadata": {},
   "outputs": [],
   "source": [
    "customer_df = zulo_bank_df [['First_Name', 'Last_Name', 'Email', 'Phone']].copy().drop_duplicates().reset_index(drop = True)\n",
    "customer_df['CustomerID'] = range(1, len(customer_df) + 1)\n",
    "customer_df = customer_df[['CustomerID','First_Name', 'Last_Name', 'Email', 'Phone']]"
   ]
  },
  {
   "cell_type": "code",
   "execution_count": null,
   "id": "960e4024",
   "metadata": {},
   "outputs": [],
   "source": [
    "account_df = zulo_bank_df[['AccountType', 'Balance', 'OpeningDate']].copy().drop_duplicates().reset_index(drop =True)\n",
    "account_df['AccountID'] = range(1, len(account_df)+ 1)\n",
    "account_df = account_df[['AccountID', 'AccountType', 'Balance', 'OpeningDate']]"
   ]
  },
  {
   "cell_type": "code",
   "execution_count": null,
   "id": "5f1dcbd1",
   "metadata": {},
   "outputs": [],
   "source": [
    "loan_df = zulo_bank_df[['LoanAmount', 'LoanType', 'StartDate', 'EndDate', 'InterestRate']]. copy().drop_duplicates().reset_index(drop =True)\n",
    "loan_df['LoanID'] = range(1, len(loan_df) + 1)\n",
    "loan_df = loan_df[['LoanID','LoanAmount', 'LoanType', 'StartDate', 'EndDate', 'InterestRate']]"
   ]
  },
  {
   "cell_type": "code",
   "execution_count": null,
   "id": "99e9fef5",
   "metadata": {},
   "outputs": [],
   "source": [
    "# Creating a comprehensive zulo_bank df with the new IDs\n",
    "zulo_bank_df = zulo_bank_df.merge(customer_df, on  =['First_Name', 'Last_Name', 'Email', 'Phone'], how = 'left')\\\n",
    "                            .merge(account_df, on= ['AccountType', 'Balance', 'OpeningDate'], how = 'left')\\\n",
    "                            .merge(loan_df, on = ['LoanAmount', 'LoanType', 'StartDate', 'EndDate', 'InterestRate'], how = 'left')\\\n",
    "                            .merge(transaction_df, on = ['TransactionType', 'Amount','TransactionDate'])\\\n",
    "                            [['CustomerID', 'AccountID', 'LoanID','TransactionID']]"
   ]
  },
  {
   "cell_type": "code",
   "execution_count": null,
   "id": "2007f16d",
   "metadata": {},
   "outputs": [],
   "source": [
    "zulo_bank_df.info()"
   ]
  },
  {
   "cell_type": "code",
   "execution_count": null,
   "id": "981a6b7d",
   "metadata": {},
   "outputs": [],
   "source": [
    "#Creating a date table for all date columns to avoid transititive dependency\n",
    "start_date = datetime(2020, 1, 1)\n",
    "current_date= datetime(2050, 12, 31)\n",
    "\n",
    "#number of days between start date and current date\n",
    "num_days =(current_date - start_date).days\n",
    "\n",
    "#getting a list of dates from start date to the current date\n",
    "date_list = [start_date + timedelta(days =x) for x in range(num_days+1)] # why time delta and not datetime\n",
    "\n",
    "#Ensuring date_id matches the length of the date_df\n",
    "date = {'DateID':[x for x in  range(1, len(date_list) + 1)], 'date': date_list}\n",
    "\n",
    "date_dim = pd.DataFrame(date)\n",
    "date_dim['Day'] = date_dim['date'].dt.day\n",
    "date_dim['Month'] = date_dim['date'].dt.month\n",
    "date_dim['Year'] = date_dim['date'].dt.year\n"
   ]
  },
  {
   "cell_type": "code",
   "execution_count": null,
   "id": "d01cf449",
   "metadata": {},
   "outputs": [],
   "source": [
    "date_dim.head()"
   ]
  },
  {
   "cell_type": "code",
   "execution_count": null,
   "id": "1dd1bd9e",
   "metadata": {},
   "outputs": [],
   "source": [
    "account_df = account_df.merge(date_dim, left_on = 'OpeningDate', right_on = 'date', how = 'inner')\\\n",
    "                        .rename(columns = {'DateID': 'OpeningDateID'})\\\n",
    "                        .reset_index (drop = True)\\\n",
    "                        [['AccountID', 'AccountType', 'Balance', 'OpeningDateID']]"
   ]
  },
  {
   "cell_type": "code",
   "execution_count": null,
   "id": "ad806563",
   "metadata": {},
   "outputs": [],
   "source": [
    "transaction_df = transaction_df.merge(date_dim, left_on ='TransactionDate', right_on = 'date', how = 'inner')\\\n",
    "                                .rename(columns = {'DateID' : 'TransactionDateID'})\\\n",
    "                                .reset_index (drop =True)\\\n",
    "                                [['TransactionID', 'TransactionType', 'Amount','TransactionDateID']]\n"
   ]
  },
  {
   "cell_type": "code",
   "execution_count": null,
   "id": "c1e0170c",
   "metadata": {},
   "outputs": [],
   "source": [
    "loan_df = loan_df.merge(date_dim, left_on = 'StartDate', right_on = 'date', how = 'inner')\\\n",
    "                        .rename(columns = {'DateID' : 'StartDateID'})\\\n",
    "                        .merge(date_dim, left_on = 'EndDate', right_on = 'date', how = 'inner')\\\n",
    "                        .rename(columns = {'DateID' : 'EndDateID'})\\\n",
    "                        .reset_index (drop =True)\\\n",
    "                        [['LoanID', 'LoanAmount', 'LoanType', 'StartDateID', 'EndDateID','InterestRate']]\n"
   ]
  },
  {
   "cell_type": "code",
   "execution_count": null,
   "id": "e0db4e6e",
   "metadata": {},
   "outputs": [],
   "source": [
    "# zulo_bank_df = zulo_bank_df.to_csv(r'C:\\Users\\Admin\\Desktop\\10Alytics\\Zulo Bank Data Model\\Zulo_Bank_Project\\Datasets\\Transformed_Datasets\\zulo_fact.csv', index = False)"
   ]
  },
  {
   "cell_type": "code",
   "execution_count": null,
   "id": "6254029d",
   "metadata": {},
   "outputs": [],
   "source": [
    "#Creating models for my DWH\n",
    "# transaction fact table\n",
    "#loan fact table\n",
    "transaction_dim = transaction_df[['TransactionID','TransactionType']].copy().drop_duplicates().reset_index(drop =True)\n",
    "\n",
    "account_dim = account_df [['AccountID', 'AccountType', 'Balance']].copy().drop_duplicates().reset_index(drop =True)\n",
    "\n",
    "transaction_fact = zulo_bank_df.merge(transaction_df, on = 'TransactionID', how = 'inner')\\\n",
    "                                .merge(account_df, on = 'AccountID', how = 'inner')\\\n",
    "                                [['TransactionID', 'AccountID', 'TransactionDateID', 'OpeningDateID', 'Amount']]\n",
    "\n"
   ]
  },
  {
   "cell_type": "code",
   "execution_count": null,
   "id": "a64a258d",
   "metadata": {},
   "outputs": [],
   "source": [
    "loan_dim = loan_df[['LoanID', 'LoanType']].copy().drop_duplicates().reset_index(drop = True)\n",
    "customer_dim = customer_df[['First_Name', 'Last_Name', 'Email', 'Phone']].copy().drop_duplicates().reset_index(drop = True)\n",
    "loan_fact = zulo_bank_df.merge(loan_df, on = 'LoanID', how = 'inner')\\\n",
    "                        .merge(customer_df, on = 'CustomerID', how = 'inner')\\\n",
    "                        [['LoanID', 'CustomerID', 'StartDateID', 'EndDateID', 'LoanAmount', 'InterestRate']]"
   ]
  },
  {
   "cell_type": "code",
   "execution_count": null,
   "id": "4d25b249",
   "metadata": {},
   "outputs": [],
   "source": [
    "transaction_dim = transaction_dim.to_csv(r'C:\\Users\\Admin\\Desktop\\10Alytics\\Zulo Bank Data Model\\Zulo_Bank_Project\\Datasets\\Transformed_Datasets\\transaction_dim.csv', index = False)\n",
    "account_dim = account_dim.to_csv(r'C:\\Users\\Admin\\Desktop\\10Alytics\\Zulo Bank Data Model\\Zulo_Bank_Project\\Datasets\\Transformed_Datasets\\account_dim.csv', index = False)\n",
    "loan_dim = loan_dim.to_csv(r'C:\\Users\\Admin\\Desktop\\10Alytics\\Zulo Bank Data Model\\Zulo_Bank_Project\\Datasets\\Transformed_Datasets\\loan_dim.csv', index = False)\n",
    "customer_dim = customer_dim.to_csv(r'C:\\Users\\Admin\\Desktop\\10Alytics\\Zulo Bank Data Model\\Zulo_Bank_Project\\Datasets\\Transformed_Datasets\\customer_dim.csv', index = False)\n",
    "loan_fact = loan_fact.to_csv(r'C:\\Users\\Admin\\Desktop\\10Alytics\\Zulo Bank Data Model\\Zulo_Bank_Project\\Datasets\\Transformed_Datasets\\loan_fact.csv', index = False)\n",
    "transaction_fact = transaction_fact.to_csv(r'C:\\Users\\Admin\\Desktop\\10Alytics\\Zulo Bank Data Model\\Zulo_Bank_Project\\Datasets\\Transformed_Datasets\\transaction_fact.csv', index = False)"
   ]
  },
  {
   "cell_type": "code",
   "execution_count": null,
   "id": "c9986592",
   "metadata": {},
   "outputs": [],
   "source": [
    "# loading my data into the database\n",
    "db_params = {\n",
    "    'user': 'postgres',\n",
    "    'password':'postgres',\n",
    "    'host': 'localhost',\n",
    "    'port': '5432',\n",
    "    'database': 'zulobank'\n",
    "}\n",
    "\n",
    "default_db_url = f\"postgresql://{db_params['user']}:{db_params['password']}@{db_params['host']}:{db_params['port']}/postgres\"\n",
    "try:\n",
    "    conn = psycopg2.connect(default_db_url)\n",
    "    conn.autocommit = True\n",
    "    cursor = conn.cursor()\n",
    "    cursor.execute(f\"SELECT 1 FROM pg_catalog.pg_database WHERE datname = '{db_params['database']}'\")\n",
    "    exists = cursor.fetchone()\n",
    "    if not exists:\n",
    "        cursor.execute(f'CREATE DATABASE {db_params['database']}')\n",
    "        print (f'Database {db_params['database']} creted successfully')\n",
    "    else:\n",
    "        print(f'Database {db_params['database']} already exists')\n",
    "    cursor.close()\n",
    "    conn.close()\n",
    "\n",
    "except Exception as e:\n",
    "    print(f'An error has occurred: {e}')\n"
   ]
  },
  {
   "cell_type": "code",
   "execution_count": null,
   "id": "d14df578",
   "metadata": {},
   "outputs": [],
   "source": [
    "\n",
    "def get_db_connection():\n",
    "    connection = psycopg2.connect(\n",
    "    host = 'localhost',\n",
    "    database = 'zulobank',\n",
    "    user = 'postgres',\n",
    "    password ='postgres'\n",
    "    )\n",
    "    return connection\n",
    "conn = get_db_connection()\n"
   ]
  },
  {
   "cell_type": "code",
   "execution_count": null,
   "id": "de0476c2",
   "metadata": {},
   "outputs": [],
   "source": [
    "# creating the required schema and tables\n",
    "def create_tables():\n",
    "    conn = get_db_connection()\n",
    "    cursor = conn.cursor()\n",
    "    table_query = '''\n",
    "                CREATE SCHEMA IF NOT EXISTS zulobankdb; \n",
    "                DROP TABLE IF EXISTS zulobankdb.customers CASCADE;\n",
    "                DROP TABLE IF EXISTS zulobankdb.accounts CASCADE;\n",
    "                DROP TABLE IF EXISTS zulobankdb.transactions CASCADE;\n",
    "                DROP TABLE IF EXISTS zulobankdb.loans CASCADE;\n",
    "                DROP TABLE IF EXISTS zulobankdb.date_dim CASCADE;\n",
    "                DROP TABLE IF EXISTS zulobankdb.zulo_fact CASCADE;\n",
    "\n",
    "\n",
    "                CREATE TABLE IF NOT EXISTS zulobankdb.date_dim(\n",
    "                DateID SERIAL PRIMARY KEY,\n",
    "                date VARCHAR (1000),\n",
    "                Day INT,\n",
    "                Month INT,\n",
    "                Year INT\n",
    "                \n",
    "                );\n",
    "\n",
    "                CREATE TABLE IF NOT EXISTS zulobankdb.transactions(\n",
    "                TransactionID SERIAL PRIMARY KEY,\n",
    "                TransactionType VARCHAR (1000),\n",
    "                Amount FLOAT,\n",
    "                TransactionDateID INT,\n",
    "                FOREIGN KEY(TransactionDateID) REFERENCES zulobankdb.date_dim(DateID)\n",
    "                \n",
    "                );\n",
    "\n",
    "\n",
    "                CREATE TABLE IF NOT EXISTS zulobankdb.accounts(\n",
    "                AccountID SERIAL PRIMARY KEY,\n",
    "                AccountType VARCHAR (1000),\n",
    "                Balance FLOAT,\n",
    "                OpeningDateID INT,\n",
    "                FOREIGN KEY(OpeningDateID) REFERENCES zulobankdb.date_dim(DateID)\n",
    "                \n",
    "                );\n",
    "\n",
    "                CREATE TABLE IF NOT EXISTS zulobankdb.loans(\n",
    "                LoanID SERIAL PRIMARY KEY,\n",
    "                LoanAmount FLOAT,\n",
    "                LoanType VARCHAR(1000),\n",
    "                StartDateID INT,\n",
    "                EndDateID INT,\n",
    "                InterestRate FLOAT,\n",
    "                FOREIGN KEY(StartDateID) REFERENCES zulobankdb.date_dim(DateID),\n",
    "                FOREIGN KEY(EndDateID) REFERENCES zulobankdb.date_dim(DateID)\n",
    "                \n",
    "                );\n",
    "\n",
    "\n",
    "                CREATE TABLE IF NOT EXISTS zulobankdb.customers(\n",
    "                CustomerID SERIAL PRIMARY KEY,\n",
    "                First_Name VARCHAR(1000),\n",
    "                Last_Name VARCHAR(1000),\n",
    "                Email VARCHAR(1000),\n",
    "                Phone VARCHAR(1000)\n",
    "                );\n",
    "            \n",
    "                CREATE TABLE IF NOT EXISTS zulobankdb.zulo_fact(\n",
    "                CustomerID INT,\n",
    "                AccountID INT,\n",
    "                LoanID INT,\n",
    "                TransactionID INT\n",
    "                );'''\n",
    "    cursor.execute(table_query)\n",
    "    conn.commit()\n",
    "    cursor.close()\n",
    "    conn.close()\n",
    "\n",
    " "
   ]
  },
  {
   "cell_type": "code",
   "execution_count": null,
   "id": "74f52725",
   "metadata": {},
   "outputs": [],
   "source": [
    "create_tables()"
   ]
  },
  {
   "cell_type": "code",
   "execution_count": null,
   "id": "2ba76542",
   "metadata": {},
   "outputs": [],
   "source": [
    "#loading the datasets into the created db tables\n",
    "def load_data_from_csv(csv_path):\n",
    "    conn = get_db_connection()\n",
    "    cursor = conn.cursor()\n",
    "    with open(csv_path, 'r') as file:\n",
    "        reader = csv.reader(file)\n",
    "        next(reader)\n",
    "        for row in reader:\n",
    "            cursor.execute(''' INSERT INTO  zulobankdb.date_dim (DateID, date, Day, Month, Year) \n",
    "                           VALUES (%s, %s, %s, %s, %s);''', \n",
    "                           row)\n",
    "            \n",
    "    conn.commit()\n",
    "    cursor.close()\n",
    "    conn.close()\n",
    "\n",
    "csv_path = r'C:\\Users\\Admin\\Desktop\\10Alytics\\Zulo Bank Data Model\\Zulo_Bank_Project\\Datasets\\Transformed_Datasets\\date_dim.csv'\n",
    "load_data_from_csv(csv_path)\n",
    "print('date_dim data loaded successfully')\n",
    "\n"
   ]
  },
  {
   "cell_type": "code",
   "execution_count": null,
   "id": "ebf2b802",
   "metadata": {},
   "outputs": [],
   "source": [
    "\n",
    "def load_data_from_csv(csv_path):\n",
    "    conn = get_db_connection()\n",
    "    cursor = conn.cursor()\n",
    "    with open(csv_path, 'r') as file:\n",
    "        reader = csv.reader(file)\n",
    "        next(reader)\n",
    "        for row in reader:\n",
    "            cursor.execute(''' INSERT INTO  zulobankdb.transactions (TransactionID, TransactionType, Amount, TransactionDateID) \n",
    "                           VALUES (%s, %s, %s, %s);''', \n",
    "                           row)\n",
    "            \n",
    "    conn.commit()\n",
    "    cursor.close()\n",
    "    conn.close()\n",
    "\n",
    "csv_path = r'C:\\Users\\Admin\\Desktop\\10Alytics\\Zulo Bank Data Model\\Zulo_Bank_Project\\Datasets\\Transformed_Datasets\\transaction.csv'\n",
    "load_data_from_csv(csv_path)\n",
    "print('transactions data loaded successfully')\n",
    "        "
   ]
  },
  {
   "cell_type": "code",
   "execution_count": null,
   "id": "63b2bcfb",
   "metadata": {},
   "outputs": [],
   "source": [
    "\n",
    "def load_data_from_csv(csv_path):\n",
    "    conn = get_db_connection()\n",
    "    cursor = conn.cursor()\n",
    "    with open(csv_path, 'r') as file:\n",
    "        reader = csv.reader(file)\n",
    "        next(reader)\n",
    "        for row in reader:\n",
    "            cursor.execute(''' INSERT INTO  zulobankdb.accounts (AccountID, AccountType, Balance, OpeningDateID) \n",
    "                           VALUES (%s, %s, %s, %s);''', \n",
    "                           row)\n",
    "            \n",
    "    conn.commit()\n",
    "    cursor.close()\n",
    "    conn.close()\n",
    "\n",
    "csv_path = r'C:\\Users\\Admin\\Desktop\\10Alytics\\Zulo Bank Data Model\\Zulo_Bank_Project\\Datasets\\Transformed_Datasets\\account.csv'\n",
    "load_data_from_csv(csv_path)\n",
    "print('accounts data loaded successfully')"
   ]
  },
  {
   "cell_type": "code",
   "execution_count": null,
   "id": "9068e2ff",
   "metadata": {},
   "outputs": [],
   "source": [
    "\n",
    "def load_data_from_csv(csv_path):\n",
    "    conn = get_db_connection()\n",
    "    cursor = conn.cursor()\n",
    "    with open(csv_path, 'r') as file:\n",
    "        reader = csv.reader(file)\n",
    "        next(reader)\n",
    "        for row in reader:\n",
    "            cursor.execute(''' INSERT INTO  zulobankdb.loans (loanID, LoanAmount, LoanType, StartDateID, EndDateID, InterestRate) \n",
    "                           VALUES (%s, %s, %s, %s, %s, %s);''', \n",
    "                           row)\n",
    "            \n",
    "    conn.commit()\n",
    "    cursor.close()\n",
    "    conn.close()\n",
    "\n",
    "csv_path = r'C:\\Users\\Admin\\Desktop\\10Alytics\\Zulo Bank Data Model\\Zulo_Bank_Project\\Datasets\\Transformed_Datasets\\loan.csv'\n",
    "load_data_from_csv(csv_path)\n",
    "print('loans data loaded successfully')"
   ]
  },
  {
   "cell_type": "code",
   "execution_count": null,
   "id": "5b73b1f0",
   "metadata": {},
   "outputs": [],
   "source": [
    "\n",
    "def load_data_from_csv(csv_path):\n",
    "    conn = get_db_connection()\n",
    "    cursor = conn.cursor()\n",
    "    with open(csv_path, 'r') as file:\n",
    "        reader = csv.reader(file)\n",
    "        next(reader)\n",
    "        for row in reader:\n",
    "            cursor.execute(''' INSERT INTO  zulobankdb.customers (CustomerID, First_Name, Last_Name, Email, Phone) \n",
    "                           VALUES (%s, %s, %s, %s, %s);''', \n",
    "                           row)\n",
    "            \n",
    "    conn.commit()\n",
    "    cursor.close()\n",
    "    conn.close()\n",
    "\n",
    "csv_path = r'C:\\Users\\Admin\\Desktop\\10Alytics\\Zulo Bank Data Model\\Zulo_Bank_Project\\Datasets\\Transformed_Datasets\\customer.csv'\n",
    "load_data_from_csv(csv_path)\n",
    "print('customers data loaded successfully')"
   ]
  },
  {
   "cell_type": "code",
   "execution_count": null,
   "id": "62fd4984",
   "metadata": {},
   "outputs": [],
   "source": [
    "\n",
    "def load_data_from_csv(csv_path):\n",
    "    conn = get_db_connection()\n",
    "    cursor = conn.cursor()\n",
    "    with open(csv_path, 'r') as file:\n",
    "        reader = csv.reader(file)\n",
    "        next(reader)\n",
    "        for row in reader:\n",
    "            try:\n",
    "                cursor.execute(''' INSERT INTO  zulobankdb.zulo_fact (CustomerID, AccountID, LoanID, TransactionID) \n",
    "                           VALUES (%s, %s, %s, %s);''', \n",
    "                           row)\n",
    "        \n",
    "                \n",
    "            except psycopg2.IntegrityError as e: # this is to aaddress the foreign key violation\n",
    "                print ('error inserting row;', row)\n",
    "                conn.rollback() # This rolls back the current transaction\n",
    "            else:\n",
    "                conn.commit()\n",
    "    cursor.close()\n",
    "    conn.close()\n",
    "\n",
    "csv_path = r'C:\\Users\\Admin\\Desktop\\10Alytics\\Zulo Bank Data Model\\Zulo_Bank_Project\\Datasets\\Transformed_Datasets\\zulo_fact.csv'\n",
    "load_data_from_csv(csv_path)\n",
    "print('zulo_fact data loaded successfully')"
   ]
  }
 ],
 "metadata": {
  "kernelspec": {
   "display_name": ".venv",
   "language": "python",
   "name": "python3"
  },
  "language_info": {
   "codemirror_mode": {
    "name": "ipython",
    "version": 3
   },
   "file_extension": ".py",
   "mimetype": "text/x-python",
   "name": "python",
   "nbconvert_exporter": "python",
   "pygments_lexer": "ipython3",
   "version": "3.13.3"
  }
 },
 "nbformat": 4,
 "nbformat_minor": 5
}
